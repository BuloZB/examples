{
  "cells": [
    {
      "cell_type": "markdown",
      "metadata": {
        "id": "8KNEuM_G83vi"
      },
      "source": [
        "[![Open In Colab](https://colab.research.google.com/assets/colab-badge.svg)](https://colab.research.google.com/github/pinecone-io/examples/blob/master/docs/pinecone-quickstart.ipynb) [![Open nbviewer](https://raw.githubusercontent.com/pinecone-io/examples/master/assets/nbviewer-shield.svg)](https://nbviewer.org/github/pinecone-io/examples/blob/master/docs/pinecone-quickstart.ipynb)\n",
        "\n",
        "# Pinecone Database quickstart\n",
        "\n",
        "This notebook shows you how to set up and use Pinecone Database for high-performance similarity search."
      ]
    },
    {
      "cell_type": "markdown",
      "metadata": {
        "id": "mjJUDk6xAA_r"
      },
      "source": [
        "## Install an SDK\n",
        "\n",
        "Pinecone provides [SDKs](https://docs.pinecone.io/reference/pinecone-sdks) in multiple languages.\n",
        "\n",
        "For this quickstart, install the Python SDK and a library that makes it easy to sign up with Pinecone:"
      ]
    },
    {
      "cell_type": "code",
      "execution_count": null,
      "metadata": {
        "id": "4SudLike98WL"
      },
      "outputs": [],
      "source": [
        "!pip install -qU \\\n",
        "    pinecone \\\n",
        "    pinecone-notebooks"
      ]
    },
    {
      "cell_type": "markdown",
      "metadata": {
        "id": "WoDXUiIkD1U7"
      },
      "source": [
        "## Get an API key\n",
        "\n",
        "You need an API key to make calls to your Pinecone project.\n",
        "\n",
        "Use the widget below to generate a key. If you don't have a Pinecone account, the widget will sign you up for the free Starter plan."
      ]
    },
    {
      "cell_type": "code",
      "execution_count": 2,
      "metadata": {
        "id": "89S8G8oP61-t",
        "colab": {
          "base_uri": "https://localhost:8080/",
          "height": 247
        },
        "outputId": "8cf57515-28e1-4953-b86d-d23dad4ea9fe"
      },
      "outputs": [
        {
          "output_type": "display_data",
          "data": {
            "text/plain": [
              "<IPython.core.display.HTML object>"
            ],
            "text/html": [
              "<script type=\"text/javascript\" src=\"https://connect.pinecone.io/embed.js\"></script>"
            ]
          },
          "metadata": {}
        }
      ],
      "source": [
        "import os\n",
        "\n",
        "if not os.environ.get(\"PINECONE_API_KEY\"):\n",
        "    from pinecone_notebooks.colab import Authenticate\n",
        "    Authenticate()"
      ]
    },
    {
      "cell_type": "markdown",
      "source": [
        "## Initialize a client\n",
        "\n",
        "Use the generated API key to intialize a client connection to Pinecone:"
      ],
      "metadata": {
        "id": "sbJFp5DO5ryT"
      }
    },
    {
      "cell_type": "code",
      "execution_count": 3,
      "metadata": {
        "id": "e9rr_u6ZIvZ-"
      },
      "outputs": [],
      "source": [
        "from pinecone import Pinecone, ServerlessSpec\n",
        "\n",
        "api_key = os.environ.get(\"PINECONE_API_KEY\")\n",
        "\n",
        "pc = Pinecone(api_key=api_key)"
      ]
    },
    {
      "cell_type": "markdown",
      "source": [
        "## Generate vectors\n",
        "\n",
        "A [vector embedding](https://www.pinecone.io/learn/vector-embeddings/) is a numerical representation of data that enables similarity-based search in vector databases like Pinecone. To convert data into this format, you use an embedding model.\n",
        "\n",
        "For this quickstart, use the [`multilingual-e5-large`](https://docs.pinecone.io/models/multilingual-e5-large) embedding model hosted by Pinecone to [convert](https://docs.pinecone.io/guides/inference/generate-embeddings) four sentences about apples into vectors, three concerning their health benefits, one concerning their cultivation."
      ],
      "metadata": {
        "id": "bN9Rl7GP258C"
      }
    },
    {
      "cell_type": "code",
      "source": [
        "# Define a sample dataset where each item has a unique ID, text, and category\n",
        "data = [\n",
        "    {\n",
        "        \"id\": \"rec1\",\n",
        "        \"text\": \"Apples are a great source of dietary fiber, which supports digestion and helps maintain a healthy gut.\",\n",
        "        \"category\": \"digestive system\"\n",
        "    },\n",
        "    {\n",
        "        \"id\": \"rec2\",\n",
        "        \"text\": \"Apples originated in Central Asia and have been cultivated for thousands of years, with over 7,500 varieties available today.\",\n",
        "        \"category\": \"cultivation\"\n",
        "    },\n",
        "    {\n",
        "        \"id\": \"rec3\",\n",
        "        \"text\": \"Rich in vitamin C and other antioxidants, apples contribute to immune health and may reduce the risk of chronic diseases.\",\n",
        "        \"category\": \"immune system\"\n",
        "    },\n",
        "    {\n",
        "        \"id\": \"rec4\",\n",
        "        \"text\": \"The high fiber content in apples can also help regulate blood sugar levels, making them a favorable snack for people with diabetes.\",\n",
        "        \"category\": \"endocrine system\"\n",
        "    }\n",
        "]\n",
        "\n",
        "# Convert the text into numerical vectors that Pinecone can index\n",
        "embeddings = pc.inference.embed(\n",
        "    model=\"multilingual-e5-large\",\n",
        "    inputs=[d[\"text\"] for d in data],\n",
        "    parameters={\n",
        "        \"input_type\": \"passage\",\n",
        "        \"truncate\": \"END\"\n",
        "    }\n",
        ")\n",
        "\n",
        "print(embeddings)"
      ],
      "metadata": {
        "id": "ZIclo2UK3NFE"
      },
      "execution_count": null,
      "outputs": []
    },
    {
      "cell_type": "markdown",
      "metadata": {
        "id": "VpgIIsLlJGFf"
      },
      "source": [
        "## Create an index\n",
        "\n",
        "In Pinecone, you store data in an [index](https://docs.pinecone.io/guides/indexes/understanding-indexes).\n",
        "\n",
        "Create a serverless index that matches the dimension (`1024`) and similarity metric (`cosine`) of the `multilingual-e5-large` model you used in the previous step, and choose a [cloud and region](https://docs.pinecone.io/guides/indexes/understanding-indexes#cloud-regions) for hosting the index:"
      ]
    },
    {
      "cell_type": "code",
      "execution_count": 5,
      "metadata": {
        "id": "Buo2K1h8O_fN"
      },
      "outputs": [],
      "source": [
        "index_name = \"docs-quickstart-notebook\""
      ]
    },
    {
      "cell_type": "code",
      "execution_count": 6,
      "metadata": {
        "id": "MaqbcsI4I1gU"
      },
      "outputs": [],
      "source": [
        "import time\n",
        "\n",
        "if not pc.has_index(index_name):\n",
        "    pc.create_index(\n",
        "        name=index_name,\n",
        "        dimension=1024,\n",
        "        metric=\"cosine\",\n",
        "        spec=ServerlessSpec(\n",
        "            cloud='aws',\n",
        "            region='us-east-1'\n",
        "        )\n",
        "    )\n",
        "\n",
        "# Wait for the index to be ready\n",
        "while not pc.describe_index(index_name).status['ready']:\n",
        "    time.sleep(1)"
      ]
    },
    {
      "cell_type": "markdown",
      "metadata": {
        "id": "tNAgla6IKWie"
      },
      "source": [
        "## Upsert vectors\n",
        "\n",
        "Target your index and use the [`upsert`](https://docs.pinecone.io/guides/data/upsert-data) operation to load your vector embeddings into a new namespace.\n",
        "\n",
        "**Note:** [Namespaces](https://docs.pinecone.io/guides/get-started/key-features#namespaces) let you partition records within an index and are essential for [implementing multitenancy](https://docs.pinecone.io/guides/get-started/implement-multitenancy) when you need to isolate the data of each customer/user.\n"
      ]
    },
    {
      "cell_type": "code",
      "execution_count": null,
      "metadata": {
        "id": "Ri6RX7FEiV4C"
      },
      "outputs": [],
      "source": [
        "# Target the index\n",
        "# In production, target an index by its unique DNS host, not by its name\n",
        "# See https://docs.pinecone.io/guides/data/target-an-index\n",
        "index = pc.Index(index_name)\n",
        "\n",
        "# Prepare the records for upsert\n",
        "# Each contains an 'id', the vector 'values',\n",
        "# and the original text and category as 'metadata'\n",
        "records = []\n",
        "for d, e in zip(data, embeddings):\n",
        "    records.append({\n",
        "        \"id\": d[\"id\"],\n",
        "        \"values\": e[\"values\"],\n",
        "        \"metadata\": {\n",
        "            \"source_text\": d[\"text\"],\n",
        "            \"category\": d[\"category\"]\n",
        "        }\n",
        "    })\n",
        "\n",
        "# Upsert the records into the index\n",
        "index.upsert(\n",
        "    vectors=records,\n",
        "    namespace=\"example-namespace\"\n",
        ")"
      ]
    },
    {
      "cell_type": "markdown",
      "metadata": {
        "id": "fqVA4OrlidX2"
      },
      "source": [
        "**Note:** To load large amounts of data, [import from object storage](https://docs.pinecone.io/guides/data/understanding-imports) or [upsert in large batches](https://docs.pinecone.io/guides/data/upsert-data#upsert-records-in-batches)."
      ]
    },
    {
      "cell_type": "markdown",
      "metadata": {
        "id": "AsVqrR2YipPM"
      },
      "source": [
        "## Check the index\n",
        "\n",
        "Pinecone is eventually consistent, so there can be a delay before your upserted vectors are available to query. Use the [`describe_index_stats`](https://docs.pinecone.io/guides/data/data-freshness/check-data-freshness) operation to check if the current vector count matches the number of vectors you upserted:"
      ]
    },
    {
      "cell_type": "code",
      "execution_count": null,
      "metadata": {
        "id": "ANfVNxzDivEY"
      },
      "outputs": [],
      "source": [
        "time.sleep(10)  # Wait for the upserted vectors to be indexed\n",
        "\n",
        "print(index.describe_index_stats())"
      ]
    },
    {
      "cell_type": "markdown",
      "metadata": {
        "id": "6cNHN6_xjYm-"
      },
      "source": [
        "## Search the index\n",
        "\n",
        "Now, let’s say you want to search your index for information about “Disease prevention”.\n",
        "\n",
        "Use the the `multilingual-e5-large` model hosted by Pinecone *to* convert your query into a vector embedding, and then use the [`query`](https://docs.pinecone.io/guides/data/query-data) operation to search for the three vectors in the index that are most semantically similar to the query vector:"
      ]
    },
    {
      "cell_type": "code",
      "execution_count": null,
      "metadata": {
        "id": "RyP4EQX8jcLn"
      },
      "outputs": [],
      "source": [
        "# Define your query\n",
        "query = \"Disease prevention\"\n",
        "\n",
        "# Convert the query into a numerical vector that Pinecone can search with\n",
        "query_embedding = pc.inference.embed(\n",
        "    model=\"multilingual-e5-large\",\n",
        "    inputs=[query],\n",
        "    parameters={\n",
        "        \"input_type\": \"query\"\n",
        "    }\n",
        ")\n",
        "\n",
        "# Search the index for the three most similar vectors\n",
        "results = index.query(\n",
        "    namespace=\"example-namespace\",\n",
        "    vector=query_embedding[0].values,\n",
        "    top_k=3,\n",
        "    include_values=False,\n",
        "    include_metadata=True\n",
        ")\n",
        "\n",
        "print(results)"
      ]
    },
    {
      "cell_type": "markdown",
      "metadata": {
        "id": "9jAJDjSAjsvA"
      },
      "source": [
        "Notice that the response includes only records about the health benefits of apples, not the cultivation of apple."
      ]
    },
    {
      "cell_type": "markdown",
      "source": [
        "## Add reranking\n",
        "\n",
        "You can increase the accuracy of your search by reranking results based on their relevance to the query.\n",
        "\n",
        "Use the `rerank` operation and the `bge-reranker-v2-m3` reranking model hosted by Pinecone to rerank the values of the documents.source_text fields and return only the two most relevant documents:"
      ],
      "metadata": {
        "id": "ayZib8aEUYR_"
      }
    },
    {
      "cell_type": "code",
      "source": [
        "# Rerank the search results based on their relevance to the query\n",
        "ranked_results = pc.inference.rerank(\n",
        "    model=\"bge-reranker-v2-m3\",\n",
        "    query=\"Disease prevention\",\n",
        "    documents=[\n",
        "        {\"id\": \"rec3\", \"source_text\": \"Rich in vitamin C and other antioxidants, apples contribute to immune health and may reduce the risk of chronic diseases.\"},\n",
        "        {\"id\": \"rec1\", \"source_text\": \"Apples are a great source of dietary fiber, which supports digestion and helps maintain a healthy gut.\"},\n",
        "        {\"id\": \"rec4\", \"source_text\": \"The high fiber content in apples can also help regulate blood sugar levels, making them a favorable snack for people with diabetes.\"}\n",
        "    ],\n",
        "    top_n=2,\n",
        "    rank_fields=[\"source_text\"],\n",
        "    return_documents=True,\n",
        "    parameters={\n",
        "        \"truncate\": \"END\"\n",
        "    }\n",
        ")\n",
        "\n",
        "print(ranked_results)\n"
      ],
      "metadata": {
        "id": "SyPG_OmwUjtm"
      },
      "execution_count": null,
      "outputs": []
    },
    {
      "cell_type": "markdown",
      "source": [
        "Notice that the two returned records are the most relevant for the query, the first relating to reducing chronic diseases, the second relating to preventing diabetes."
      ],
      "metadata": {
        "id": "QTkhBFJHUnj0"
      }
    },
    {
      "cell_type": "markdown",
      "source": [
        "## Add filtering\n",
        "\n",
        "You can use a [metadata filter](https://docs.pinecone.io/guides/data/understanding-metadata) to limit your search to records matching a filter expression.\n",
        "\n",
        "Your upserted records contain a `category` metadata field. Now use that field as a filter to search for records in the “digestive system” category:"
      ],
      "metadata": {
        "id": "nGjpffT5UrrL"
      }
    },
    {
      "cell_type": "code",
      "source": [
        "# Search the index with a metadata filter\n",
        "filtered_results = index.query(\n",
        "    namespace=\"example-namespace\",\n",
        "    vector=query_embedding.data[0].values,\n",
        "    filter={\n",
        "        \"category\": {\"$eq\": \"digestive system\"}\n",
        "    },\n",
        "    top_k=3,\n",
        "    include_values=False,\n",
        "    include_metadata=True\n",
        ")\n",
        "\n",
        "print(filtered_results)"
      ],
      "metadata": {
        "id": "KkH7Wre3Ux5B"
      },
      "execution_count": null,
      "outputs": []
    },
    {
      "cell_type": "markdown",
      "source": [
        "Notice that the response includes only the one record in the “digestive system” category."
      ],
      "metadata": {
        "id": "awumy10tU2Lv"
      }
    },
    {
      "cell_type": "markdown",
      "metadata": {
        "id": "DavgcphWjwWw"
      },
      "source": [
        "## Clean up\n",
        "\n",
        "When you no longer need the `docs-quickstart-notebook` index, use the [`delete_index`](https://docs.pinecone.io/reference/api/control-plane/delete_index) operation to delete it:"
      ]
    },
    {
      "cell_type": "code",
      "execution_count": 13,
      "metadata": {
        "id": "1iHV2Y0ujy0y"
      },
      "outputs": [],
      "source": [
        "pc.delete_index(index_name)"
      ]
    },
    {
      "cell_type": "markdown",
      "metadata": {
        "id": "mjMxELwjkBDj"
      },
      "source": [
        "After you delete an index, you cannot use it again or recover it."
      ]
    }
  ],
  "metadata": {
    "colab": {
      "provenance": []
    },
    "kernelspec": {
      "display_name": "Python 3",
      "name": "python3"
    },
    "language_info": {
      "name": "python"
    }
  },
  "nbformat": 4,
  "nbformat_minor": 0
}